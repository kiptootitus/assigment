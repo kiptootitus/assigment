{
 "cells": [
  {
   "cell_type": "code",
   "execution_count": 2,
   "metadata": {},
   "outputs": [],
   "source": [
    "def main():\n",
    "    students_data = {}  # Dictionary to store student data {student_name: page_views}\n",
    "    \n",
    "    # Read the student.csv file from the same directory\n",
    "    with open('student.csv', 'r') as infile:\n",
    "        header = infile.readline()  # Read and ignore the header line\n",
    "        for line in infile:\n",
    "            parts = line.strip().split(',')  # Assuming the CSV is comma-separated\n",
    "            \n",
    "            # Handle cases where student name contains commas\n",
    "            student_name = parts[0]\n",
    "            if len(parts) > 2:\n",
    "                student_name = ','.join(parts[:-1])\n",
    "            \n",
    "            try:\n",
    "                page_views = int(parts[-1])  # Try to get the last part as page views\n",
    "            except ValueError:\n",
    "                # Handle cases where page views are not a valid integer\n",
    "                continue\n",
    "            \n",
    "            students_data[student_name] = page_views\n",
    "    \n",
    "    # Sort the student data based on page views\n",
    "    sorted_students = sorted(students_data.items(), key=lambda x: x[1])\n",
    "    \n",
    "    # Create a list of students with page views less than 100\n",
    "    students_less_than_100_views = [student for student, views in sorted_students if views < 100]\n",
    "    \n",
    "    # Print the list of students with page views less than 100\n",
    "    for student in students_less_than_100_views:\n",
    "        first_name, last_name = student.split()  # Assuming first name and last name are separated by a space\n",
    "        print(\"First Name:\", first_name, \"Last Name:\", last_name)\n",
    "    \n",
    "    # Create a list of students with page views greater than 100\n",
    "    students_greater_than_100_views = [student for student, views in sorted_students if views > 100]\n",
    "\n",
    "    # Print the list of students with page views greater than 100\n",
    "    for student in students_greater_than_100_views:\n",
    "        first_name, last_name = student.split()\n",
    "        print(\"First Name:\", first_name, \"Last Name:\", last_name)\n",
    "main()      "
   ]
  }
 ],
 "metadata": {
  "kernelspec": {
   "display_name": "Python 3",
   "language": "python",
   "name": "python3"
  },
  "language_info": {
   "codemirror_mode": {
    "name": "ipython",
    "version": 3
   },
   "file_extension": ".py",
   "mimetype": "text/x-python",
   "name": "python",
   "nbconvert_exporter": "python",
   "pygments_lexer": "ipython3",
   "version": "3.11.4"
  },
  "orig_nbformat": 4
 },
 "nbformat": 4,
 "nbformat_minor": 2
}
